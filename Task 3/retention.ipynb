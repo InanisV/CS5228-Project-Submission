{
 "cells": [
  {
   "cell_type": "code",
   "execution_count": 49,
   "metadata": {},
   "outputs": [],
   "source": [
    "import numpy as np\n",
    "import pandas as pd\n",
    "from matplotlib import pyplot as plt\n",
    "from scipy import stats"
   ]
  },
  {
   "cell_type": "code",
   "execution_count": 105,
   "metadata": {},
   "outputs": [
    {
     "name": "stdout",
     "output_type": "stream",
     "text": [
      "72539.37565084227\n"
     ]
    }
   ],
   "source": [
    "df = pd.read_csv('task3.csv', index_col=0)\n",
    "mileage_avg = np.average(df['mileage'][df['mileage'].notna()])\n",
    "print(mileage_avg)\n",
    "df['mileage'] = df['mileage'].fillna(mileage_avg)"
   ]
  },
  {
   "cell_type": "code",
   "execution_count": 106,
   "metadata": {},
   "outputs": [
    {
     "data": {
      "text/plain": [
       "0        0.000010\n",
       "1        0.000004\n",
       "2        0.000006\n",
       "3        0.000018\n",
       "4        0.000006\n",
       "           ...   \n",
       "16779    0.000009\n",
       "16780    0.000004\n",
       "16781    0.000009\n",
       "16782    0.000006\n",
       "16783   -0.000202\n",
       "Name: retention_rate, Length: 16784, dtype: float64"
      ]
     },
     "execution_count": 106,
     "metadata": {},
     "output_type": "execute_result"
    }
   ],
   "source": [
    "df['retention_rate'] = (df['model_price'] - df['price']) / (df['model_price'] * df['mileage'])\n",
    "df['retention_rate']"
   ]
  },
  {
   "cell_type": "code",
   "execution_count": 107,
   "metadata": {},
   "outputs": [
    {
     "name": "stdout",
     "output_type": "stream",
     "text": [
      "14495 14457\n"
     ]
    }
   ],
   "source": [
    "# remove outlier based on z-score\n",
    "before_len_1 = len(df)\n",
    "df = df[df['retention_rate'] > 0]\n",
    "before_len_2 = len(df)\n",
    "df = df[(np.abs(stats.zscore(df['retention_rate'])) < 0.8)]\n",
    "print(before_len_1, before_len_2, len(df))"
   ]
  },
  {
   "cell_type": "code",
   "execution_count": 108,
   "metadata": {},
   "outputs": [
    {
     "data": {
      "text/html": [
       "<div>\n",
       "<style scoped>\n",
       "    .dataframe tbody tr th:only-of-type {\n",
       "        vertical-align: middle;\n",
       "    }\n",
       "\n",
       "    .dataframe tbody tr th {\n",
       "        vertical-align: top;\n",
       "    }\n",
       "\n",
       "    .dataframe thead th {\n",
       "        text-align: right;\n",
       "    }\n",
       "</style>\n",
       "<table border=\"1\" class=\"dataframe\">\n",
       "  <thead>\n",
       "    <tr style=\"text-align: right;\">\n",
       "      <th></th>\n",
       "      <th>retention_rate</th>\n",
       "      <th>count</th>\n",
       "    </tr>\n",
       "  </thead>\n",
       "  <tbody>\n",
       "    <tr>\n",
       "      <td>alfa romeo</td>\n",
       "      <td>0.000005</td>\n",
       "      <td>11</td>\n",
       "    </tr>\n",
       "    <tr>\n",
       "      <td>alpine</td>\n",
       "      <td>0.000004</td>\n",
       "      <td>1</td>\n",
       "    </tr>\n",
       "    <tr>\n",
       "      <td>audi</td>\n",
       "      <td>0.000019</td>\n",
       "      <td>672</td>\n",
       "    </tr>\n",
       "    <tr>\n",
       "      <td>austin</td>\n",
       "      <td>0.000009</td>\n",
       "      <td>7</td>\n",
       "    </tr>\n",
       "    <tr>\n",
       "      <td>bentley</td>\n",
       "      <td>0.000039</td>\n",
       "      <td>84</td>\n",
       "    </tr>\n",
       "  </tbody>\n",
       "</table>\n",
       "</div>"
      ],
      "text/plain": [
       "            retention_rate  count\n",
       "alfa romeo        0.000005     11\n",
       "alpine            0.000004      1\n",
       "audi              0.000019    672\n",
       "austin            0.000009      7\n",
       "bentley           0.000039     84"
      ]
     },
     "execution_count": 108,
     "metadata": {},
     "output_type": "execute_result"
    }
   ],
   "source": [
    "make_retention_rate = df.groupby(['make']).mean()['retention_rate'].sort_values(ascending=False)\n",
    "count = df.groupby(['make']).count()['retention_rate']\n",
    "rdf = pd.DataFrame({'retention_rate': make_retention_rate, 'count': count})\n",
    "rdf.sort_values(by='retention_rate')\n",
    "rdf.head()"
   ]
  },
  {
   "cell_type": "code",
   "execution_count": 123,
   "metadata": {},
   "outputs": [
    {
     "name": "stdout",
     "output_type": "stream",
     "text": [
      "73 20\n"
     ]
    }
   ],
   "source": [
    "rdf_cleaned = rdf[(np.abs(stats.zscore(rdf['count'])) < 0.35)]\n",
    "print(len(rdf), len(rdf_cleaned))"
   ]
  },
  {
   "cell_type": "code",
   "execution_count": 127,
   "metadata": {},
   "outputs": [
    {
     "data": {
      "image/png": "[encoded data removed]",
      "text/plain": [
       "<Figure size 432x288 with 1 Axes>"
      ]
     },
     "metadata": {},
     "output_type": "display_data"
    }
   ],
   "source": [
    "plt.barh(rdf_cleaned.index, rdf_cleaned['retention_rate'] * 1e6)\n",
    "# plt.plot(rdf_cleaned.index, rdf_cleaned['count'])\n",
    "plt.show()"
   ]
  }
 ],
 "metadata": {
  "interpreter": {
   "hash": "fa8dac6680f64e1fe1addd29e113e105eab44a47d6ab362be4951d8845d23063"
  },
  "kernelspec": {
   "display_name": "Python 3.6.4 64-bit",
   "language": "python",
   "name": "python3"
  },
  "language_info": {
   "codemirror_mode": {
    "name": "ipython",
    "version": 3
   },
   "file_extension": ".py",
   "mimetype": "text/x-python",
   "name": "python",
   "nbconvert_exporter": "python",
   "pygments_lexer": "ipython3",
   "version": "3.6.4"
  },
  "orig_nbformat": 4
 },
 "nbformat": 4,
 "nbformat_minor": 2
}
