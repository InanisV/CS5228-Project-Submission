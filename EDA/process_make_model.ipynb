{
 "cells": [
  {
   "cell_type": "code",
   "execution_count": 1,
   "id": "abda4214",
   "metadata": {},
   "outputs": [],
   "source": [
    "import numpy as np \n",
    "import pandas as pd \n",
    "import matplotlib.pyplot as plt\n",
    "from wordcloud import WordCloud\n",
    "from sklearn.feature_extraction.text import TfidfVectorizer\n",
    "import string\n",
    "from sklearn.feature_extraction.text import CountVectorizer\n",
    "import xgboost as xgb\n",
    "from sklearn import preprocessing\n",
    "from sklearn.model_selection import train_test_split\n",
    "from sklearn.metrics import accuracy_score\n",
    "from sklearn.metrics import mean_squared_error\n",
    "import matplotlib.pyplot as plt\n",
    "from pandas.testing import assert_frame_equal\n",
    "from sklearn.model_selection import cross_val_score\n",
    "%matplotlib inline"
   ]
  },
  {
   "cell_type": "code",
   "execution_count": 2,
   "id": "1cf6fd99",
   "metadata": {},
   "outputs": [
    {
     "name": "stdout",
     "output_type": "stream",
     "text": [
      "(16727, 36)\n",
      "(5000, 37)\n"
     ]
    }
   ],
   "source": [
    "dataset = pd.read_csv('data/train_v1.csv')\n",
    "testset = pd.read_csv('data/test_v3.csv')\n",
    "print(dataset.shape)\n",
    "print(testset.shape)\n",
    "# print(dataset.dtypes)\n",
    "# print(testset.dtypes)\n",
    "testset = testset.drop(labels=['Unnamed: 0_x',\"Unnamed: 0_y\",'Unnamed: 0'],axis=1)\n",
    "dataset = dataset.drop(labels=['Unnamed: 0'],axis=1)\n",
    "\n",
    "totalset = pd.concat([dataset,testset])\n",
    "lb = preprocessing.LabelEncoder()\n",
    "\n",
    "# print(dataset['accessories_vectors'])\n",
    "# totalset['make'] = lb.fit_transform(totalset['make'].values)\n",
    "# totalset['model'] = lb.fit_transform(totalset['model'].values)\n",
    "totalset['accessories_vectors'] = lb.fit_transform(totalset['accessories_vectors'].values)\n",
    "\n",
    "\n",
    "\n",
    "\n",
    "\n"
   ]
  },
  {
   "cell_type": "code",
   "execution_count": 3,
   "id": "5d7a106d",
   "metadata": {},
   "outputs": [],
   "source": [
    "# functions to fill NaN price\n",
    "def get_mean_value(train,make,model,feature):\n",
    "   \n",
    "    mean_val = train.loc[(train.make == make) & (train.model == model)][feature].dropna().mean()\n",
    "    \n",
    "    if np.isnan(mean_val):\n",
    "        mean_val = train.loc[(train.make == make)][feature].dropna().mean()\n",
    "        if np.isnan(mean_val):\n",
    "            mean_val = train[feature].dropna().mean()         \n",
    "    return mean_val\n",
    "\n",
    "def fill_nan(train,feature):\n",
    "    for index, row in train.iterrows():\n",
    "#     print(row)\n",
    "        if np.isnan(row[feature]):\n",
    "#             if np.isnan(row.model):\n",
    "#                 model = fillMake['model'][index]\n",
    "#             else:\n",
    "#                 model = row.model    \n",
    "            train[feature][index] = get_mean_value(train,row.make,row.model,feature)"
   ]
  },
  {
   "cell_type": "code",
   "execution_count": 4,
   "id": "9a347f90",
   "metadata": {},
   "outputs": [
    {
     "name": "stderr",
     "output_type": "stream",
     "text": [
      "<ipython-input-3-a148c5a91eef>:20: SettingWithCopyWarning: \n",
      "A value is trying to be set on a copy of a slice from a DataFrame\n",
      "\n",
      "See the caveats in the documentation: https://pandas.pydata.org/pandas-docs/stable/user_guide/indexing.html#returning-a-view-versus-a-copy\n",
      "  train[feature][index] = get_mean_value(train,row.make,row.model,feature)\n"
     ]
    },
    {
     "name": "stdout",
     "output_type": "stream",
     "text": [
      "     model_price  is_new           make     model\n",
      "0       243888.0       0            bmw      320i\n",
      "1        75000.0       0         toyota     hiace\n",
      "2       170800.0       0  mercedes-benz    cla180\n",
      "3       240888.0       1  mercedes-benz      e180\n",
      "4       133099.0       0          honda     civic\n",
      "..           ...     ...            ...       ...\n",
      "741      96000.0       1           hino   fy1etkm\n",
      "742      65999.0       1      chevrolet     spark\n",
      "743      95888.0       1  mercedes-benz      a170\n",
      "744      61999.0       1            kia  magentis\n",
      "745     300000.0       0          volvo       v90\n",
      "\n",
      "[746 rows x 4 columns]\n"
     ]
    }
   ],
   "source": [
    "# deal with make_model dataset\n",
    "make_model = pd.read_csv('data/make_model.csv')\n",
    "make_model = make_model.drop(labels=['index'],axis=1)\n",
    "\n",
    "make_model['make'] = make_model['mod'].str.split(' ').str[0]\n",
    "make_model['model'] = make_model['mod'].str.split(' ').str[1]\n",
    "\n",
    "make_model = make_model.drop(labels=['mod'],axis=1)\n",
    "make_model['is_new'].fillna(0, inplace=True)\n",
    "make_model['is_new'].fillna(0, inplace=True)\n",
    "make_model['is_new'].replace('Past',1,inplace=True) \n",
    "\n",
    "make_model.rename(columns={'price':'model_price'},inplace=True)\n",
    "make_model['model_price'].replace(-1,np.NaN,inplace=True) \n",
    "fill_nan(make_model,'model_price')\n",
    "\n",
    "print(make_model)"
   ]
  },
  {
   "cell_type": "code",
   "execution_count": 5,
   "id": "ce7039bc",
   "metadata": {},
   "outputs": [
    {
     "name": "stdout",
     "output_type": "stream",
     "text": [
      "Index(['listing_id', 'accessories_vectors', 'years of warranty',\n",
      "       'better loan offer', 'well maintained', 'low fuel consumption',\n",
      "       'reg_date', 'power', 'engine_cap', 'mileage', 'no_of_owners',\n",
      "       'depreciation', 'coe', 'dereg_value', 'omv', 'arf',\n",
      "       'type_of_vehicle_bus/mini bus', 'type_of_vehicle_hatchback',\n",
      "       'type_of_vehicle_luxury sedan', 'type_of_vehicle_mid-sized sedan',\n",
      "       'type_of_vehicle_mpv', 'type_of_vehicle_others',\n",
      "       'type_of_vehicle_sports car', 'type_of_vehicle_stationwagon',\n",
      "       'type_of_vehicle_suv', 'type_of_vehicle_truck', 'type_of_vehicle_van',\n",
      "       'fuel_type_diesel', 'fuel_type_electric', 'fuel_type_petrol',\n",
      "       'fuel_type_petrol-electric', 'transmission', 'make', 'model', 'price',\n",
      "       'model_price', 'is_new'],\n",
      "      dtype='object')\n"
     ]
    }
   ],
   "source": [
    "# merge make_mode dataset with the original dataset\n",
    "totalset = pd.merge(totalset, make_model, how='left', on=['make', 'model'])\n",
    "totalset['make'] = lb.fit_transform(totalset['make'].values)\n",
    "totalset['model'] = lb.fit_transform(totalset['model'].values)\n",
    "print(totalset.columns)"
   ]
  },
  {
   "cell_type": "code",
   "execution_count": 7,
   "id": "150bef8f",
   "metadata": {},
   "outputs": [
    {
     "name": "stdout",
     "output_type": "stream",
     "text": [
      "(16727, 37)\n",
      "(5000, 36)\n"
     ]
    }
   ],
   "source": [
    "dataset = totalset.head(16727)\n",
    "testset = totalset.tail(5000)\n",
    "\n",
    "# print(testset.head(5))\n",
    "\n",
    "testset = testset.drop(labels=['price'],axis=1)\n",
    "print(dataset.shape)\n",
    "print(testset.shape)\n",
    "\n",
    "train, test = train_test_split(dataset, test_size=0.2, random_state=0)\n",
    "# print(dataset['accessories_vectors'])\n",
    "\n",
    "dataset.to_csv(\"train_v5.csv\")\n",
    "testset.to_csv(\"test_v5.csv\")"
   ]
  }
 ],
 "metadata": {
  "kernelspec": {
   "display_name": "Python 3",
   "language": "python",
   "name": "python3"
  },
  "language_info": {
   "codemirror_mode": {
    "name": "ipython",
    "version": 3
   },
   "file_extension": ".py",
   "mimetype": "text/x-python",
   "name": "python",
   "nbconvert_exporter": "python",
   "pygments_lexer": "ipython3",
   "version": "3.8.8"
  }
 },
 "nbformat": 4,
 "nbformat_minor": 5
}
