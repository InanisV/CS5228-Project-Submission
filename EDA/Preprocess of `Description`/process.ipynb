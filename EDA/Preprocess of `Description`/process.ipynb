{
 "cells": [
  {
   "cell_type": "code",
   "execution_count": 1,
   "source": [
    "import re\n",
    "import csv\n",
    "import numpy as np\n",
    "import pandas as pd\n",
    "from gensim.models.keyedvectors import KeyedVectors\n",
    "from DocSim import DocSim\n",
    "\n",
    "googlenews_model_path = './data/GoogleNews-vectors-negative300.bin'\n",
    "stopwords_path = \"./data/stopwords_en.txt\"\n",
    "cars_path = \"./data/train.csv\""
   ],
   "outputs": [],
   "metadata": {}
  },
  {
   "cell_type": "code",
   "execution_count": 2,
   "source": [
    "df_car = pd.read_csv(cars_path)\n",
    "df_car['description'] = df_car['description'].str.split('\\s?[!,.]\\s?')\n",
    "df_dscpt = df_car[['listing_id', 'description']]\n",
    "\n",
    "model = KeyedVectors.load_word2vec_format(googlenews_model_path, binary=True)\n",
    "with open(stopwords_path, 'r') as fh:\n",
    "    stopwords = fh.read().split(\",\")\n",
    "ds = DocSim(model, stopwords=stopwords)"
   ],
   "outputs": [],
   "metadata": {}
  },
  {
   "cell_type": "code",
   "execution_count": 10,
   "source": [
    "print(df_dscpt.head())\n",
    "\n",
    "def aggregate(row):\n",
    "    global items\n",
    "    _row = row['description']\n",
    "    if isinstance(_row, list) and len(_row) > 1:\n",
    "        _tmp = list(filter(str.strip, _row))\n",
    "        items = [*items, *_tmp]\n",
    "\n",
    "def counter(row):\n",
    "    global items_dict, writer\n",
    "    _dict = {'id':row['listing_id'],\n",
    "            'years warranty':0,\n",
    "            'high loan available attractive interest rate':0,\n",
    "            'well maintained excellent condition accident free non-accident unit':0,\n",
    "            'fuel efficiency low consumption':0}\n",
    "    _row = row['description']\n",
    "    if isinstance(_row, list) and len(_row) > 1:\n",
    "        _tmp = list(filter(str.strip, _row))\n",
    "        for doc in _tmp:\n",
    "            res = ds.calculate_similarity(doc, items)\n",
    "            if len(res) > 0 and res[0]['score'] > 0.5:\n",
    "                items_dict[res[0]['doc']] += 1\n",
    "                if res[0]['doc'] == 'years warranty':\n",
    "                    num = re.findall(r'(\\d+(?:\\.\\d+)?) years warranty', doc)\n",
    "                    if len(num) > 0:\n",
    "                        _dict[res[0]['doc']] = min(num)\n",
    "                else:\n",
    "                    _dict[res[0]['doc']] = 1\n",
    "    writer.writerow(list(_dict.values()))"
   ],
   "outputs": [
    {
     "output_type": "stream",
     "name": "stdout",
     "text": [
      "   listing_id                                        description\n",
      "0     1030324  [1 owner, 320i gt m-sports model, big brake ki...\n",
      "1     1021510  [high loan available, low mileage unit, wear a...\n",
      "2     1026909  [1 owner c&c unit, full agent service with 1 m...\n",
      "3     1019371  [fully agent maintained, 3 years warranty 10 y...\n",
      "4     1031014  [kah motor unit, 1 owner, lowest 1, 98% for fu...\n"
     ]
    }
   ],
   "metadata": {}
  },
  {
   "cell_type": "code",
   "execution_count": 11,
   "source": [
    "items = ['years warranty', 'high loan available attractive interest rate', 'well maintained excellent condition accident free non-accident unit', 'fuel efficiency low consumption']\n",
    "# items = []\n",
    "# df_dscpt[:30].apply(aggregate)\n",
    "# print(len(items))\n",
    "\n",
    "items_dict = dict.fromkeys(items, 0)\n"
   ],
   "outputs": [],
   "metadata": {}
  },
  {
   "cell_type": "code",
   "execution_count": 12,
   "source": [
    "with open('description.csv', 'w') as csv_file:  \n",
    "    writer = csv.writer(csv_file)\n",
    "    writer.writerow(['listing_id', 'years of warranty', 'better loan offer', 'well maintained', 'low fuel consumption'])\n",
    "    df_dscpt.apply(counter, axis=1)\n",
    "items_freq = sorted(items_dict.items(), key=lambda x: x[1], reverse=True)\n",
    "print(items_freq)"
   ],
   "outputs": [
    {
     "output_type": "stream",
     "name": "stderr",
     "text": [
      "/Library/Frameworks/Python.framework/Versions/3.7/lib/python3.7/site-packages/numpy/core/fromnumeric.py:3373: RuntimeWarning: Mean of empty slice.\n",
      "  out=out, **kwargs)\n",
      "/Library/Frameworks/Python.framework/Versions/3.7/lib/python3.7/site-packages/numpy/core/_methods.py:170: RuntimeWarning: invalid value encountered in double_scalars\n",
      "  ret = ret.dtype.type(ret / rcount)\n"
     ]
    },
    {
     "output_type": "stream",
     "name": "stdout",
     "text": [
      "[('high loan available attractive interest rate', 13832), ('well maintained excellent condition accident free non-accident unit', 7039), ('fuel efficiency low consumption', 5340), ('years warranty', 4703)]\n"
     ]
    }
   ],
   "metadata": {}
  },
  {
   "cell_type": "code",
   "execution_count": 13,
   "source": [
    "freq_dict = dict(items_freq)\n",
    "with open('description_freq.csv', 'w') as csv_file:  \n",
    "    writer = csv.writer(csv_file)\n",
    "    writer.writerow(['key phrase', 'count'])\n",
    "    for key, value in freq_dict.items():\n",
    "       writer.writerow([key, value])"
   ],
   "outputs": [],
   "metadata": {}
  },
  {
   "cell_type": "code",
   "execution_count": 9,
   "source": [
    "source_doc = \"warranty\"\n",
    "target_docs = ['high loan available attractive interest rate', 'years warranty', 'well maintained excellent condition accident free non-accident unit', 'fuel efficiency low consumption']\n",
    "\n",
    "sim_scores = ds.calculate_similarity(source_doc, target_docs)\n",
    "\n",
    "print(sim_scores)"
   ],
   "outputs": [
    {
     "output_type": "stream",
     "name": "stdout",
     "text": [
      "[{'score': 1.0, 'doc': 'years warranty'}, {'score': 0.22199024, 'doc': 'high loan available attractive interest rate'}, {'score': 0.21609513, 'doc': 'well maintained excellent condition accident free non-accident unit'}, {'score': 0.16154926, 'doc': 'fuel efficiency low consumption'}]\n"
     ]
    }
   ],
   "metadata": {}
  }
 ],
 "metadata": {
  "orig_nbformat": 4,
  "language_info": {
   "name": "python",
   "version": "3.7.5",
   "mimetype": "text/x-python",
   "codemirror_mode": {
    "name": "ipython",
    "version": 3
   },
   "pygments_lexer": "ipython3",
   "nbconvert_exporter": "python",
   "file_extension": ".py"
  },
  "kernelspec": {
   "name": "python3",
   "display_name": "Python 3.7.5 64-bit"
  },
  "interpreter": {
   "hash": "aee8b7b246df8f9039afb4144a1f6fd8d2ca17a180786b69acc140d282b71a49"
  }
 },
 "nbformat": 4,
 "nbformat_minor": 2
}